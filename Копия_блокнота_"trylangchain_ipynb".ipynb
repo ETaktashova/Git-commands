{
  "nbformat": 4,
  "nbformat_minor": 0,
  "metadata": {
    "colab": {
      "provenance": [],
      "gpuType": "T4",
      "include_colab_link": true
    },
    "kernelspec": {
      "name": "python3",
      "display_name": "Python 3"
    },
    "language_info": {
      "name": "python"
    },
    "accelerator": "GPU"
  },
  "cells": [
    {
      "cell_type": "markdown",
      "metadata": {
        "id": "view-in-github",
        "colab_type": "text"
      },
      "source": [
        "<a href=\"https://colab.research.google.com/github/ETaktashova/Git-commands/blob/master/%D0%9A%D0%BE%D0%BF%D0%B8%D1%8F_%D0%B1%D0%BB%D0%BE%D0%BA%D0%BD%D0%BE%D1%82%D0%B0_%22trylangchain_ipynb%22.ipynb\" target=\"_parent\"><img src=\"https://colab.research.google.com/assets/colab-badge.svg\" alt=\"Open In Colab\"/></a>"
      ]
    },
    {
      "cell_type": "markdown",
      "source": [
        "(пока проверены текстовый файл и эксель)"
      ],
      "metadata": {
        "id": "-45LbO3xLtP4"
      }
    },
    {
      "cell_type": "code",
      "execution_count": null,
      "metadata": {
        "id": "GADfEyUsRXfc",
        "colab": {
          "base_uri": "https://localhost:8080/"
        },
        "outputId": "a5f45561-6689-4b0d-9446-a2629075d708"
      },
      "outputs": [
        {
          "output_type": "stream",
          "name": "stdout",
          "text": [
            "Collecting llama-cpp-python\n",
            "  Downloading llama_cpp_python-0.2.32.tar.gz (10.1 MB)\n",
            "\u001b[2K     \u001b[90m━━━━━━━━━━━━━━━━━━━━━━━━━━━━━━━━━━━━━━━━\u001b[0m \u001b[32m10.1/10.1 MB\u001b[0m \u001b[31m31.0 MB/s\u001b[0m eta \u001b[36m0:00:00\u001b[0m\n",
            "\u001b[?25h  Installing build dependencies ... \u001b[?25l\u001b[?25hdone\n",
            "  Getting requirements to build wheel ... \u001b[?25l\u001b[?25hdone\n",
            "  Installing backend dependencies ... \u001b[?25l\u001b[?25hdone\n",
            "  Preparing metadata (pyproject.toml) ... \u001b[?25l\u001b[?25hdone\n",
            "Collecting chromadb\n",
            "  Downloading chromadb-0.4.22-py3-none-any.whl (509 kB)\n",
            "\u001b[2K     \u001b[90m━━━━━━━━━━━━━━━━━━━━━━━━━━━━━━━━━━━━━━━━\u001b[0m \u001b[32m509.0/509.0 kB\u001b[0m \u001b[31m40.1 MB/s\u001b[0m eta \u001b[36m0:00:00\u001b[0m\n",
            "\u001b[?25hCollecting langchain\n",
            "  Downloading langchain-0.1.3-py3-none-any.whl (803 kB)\n",
            "\u001b[2K     \u001b[90m━━━━━━━━━━━━━━━━━━━━━━━━━━━━━━━━━━━━━━━━\u001b[0m \u001b[32m803.6/803.6 kB\u001b[0m \u001b[31m59.7 MB/s\u001b[0m eta \u001b[36m0:00:00\u001b[0m\n",
            "\u001b[?25hCollecting sentence_transformers\n",
            "  Downloading sentence-transformers-2.2.2.tar.gz (85 kB)\n",
            "\u001b[2K     \u001b[90m━━━━━━━━━━━━━━━━━━━━━━━━━━━━━━━━━━━━━━━━\u001b[0m \u001b[32m86.0/86.0 kB\u001b[0m \u001b[31m12.9 MB/s\u001b[0m eta \u001b[36m0:00:00\u001b[0m\n",
            "\u001b[?25h  Preparing metadata (setup.py) ... \u001b[?25l\u001b[?25hdone\n",
            "Requirement already satisfied: typing-extensions>=4.5.0 in /usr/local/lib/python3.10/dist-packages (from llama-cpp-python) (4.5.0)\n",
            "Requirement already satisfied: numpy>=1.20.0 in /usr/local/lib/python3.10/dist-packages (from llama-cpp-python) (1.23.5)\n",
            "Requirement already satisfied: diskcache>=5.6.1 in /usr/local/lib/python3.10/dist-packages (from llama-cpp-python) (5.6.3)\n",
            "Requirement already satisfied: jinja2>=2.11.3 in /usr/local/lib/python3.10/dist-packages (from llama-cpp-python) (3.1.3)\n",
            "Requirement already satisfied: build>=1.0.3 in /usr/local/lib/python3.10/dist-packages (from chromadb) (1.0.3)\n",
            "Requirement already satisfied: requests>=2.28 in /usr/local/lib/python3.10/dist-packages (from chromadb) (2.31.0)\n",
            "Requirement already satisfied: pydantic>=1.9 in /usr/local/lib/python3.10/dist-packages (from chromadb) (1.10.14)\n",
            "Collecting chroma-hnswlib==0.7.3 (from chromadb)\n",
            "  Downloading chroma_hnswlib-0.7.3-cp310-cp310-manylinux_2_17_x86_64.manylinux2014_x86_64.whl (2.4 MB)\n",
            "\u001b[2K     \u001b[90m━━━━━━━━━━━━━━━━━━━━━━━━━━━━━━━━━━━━━━━━\u001b[0m \u001b[32m2.4/2.4 MB\u001b[0m \u001b[31m96.4 MB/s\u001b[0m eta \u001b[36m0:00:00\u001b[0m\n",
            "\u001b[?25hCollecting fastapi>=0.95.2 (from chromadb)\n",
            "  Downloading fastapi-0.109.0-py3-none-any.whl (92 kB)\n",
            "\u001b[2K     \u001b[90m━━━━━━━━━━━━━━━━━━━━━━━━━━━━━━━━━━━━━━━━\u001b[0m \u001b[32m92.0/92.0 kB\u001b[0m \u001b[31m5.2 MB/s\u001b[0m eta \u001b[36m0:00:00\u001b[0m\n",
            "\u001b[?25hCollecting uvicorn[standard]>=0.18.3 (from chromadb)\n",
            "  Downloading uvicorn-0.27.0-py3-none-any.whl (60 kB)\n",
            "\u001b[2K     \u001b[90m━━━━━━━━━━━━━━━━━━━━━━━━━━━━━━━━━━━━━━━━\u001b[0m \u001b[32m60.6/60.6 kB\u001b[0m \u001b[31m9.1 MB/s\u001b[0m eta \u001b[36m0:00:00\u001b[0m\n",
            "\u001b[?25hCollecting posthog>=2.4.0 (from chromadb)\n",
            "  Downloading posthog-3.3.2-py2.py3-none-any.whl (40 kB)\n",
            "\u001b[2K     \u001b[90m━━━━━━━━━━━━━━━━━━━━━━━━━━━━━━━━━━━━━━━━\u001b[0m \u001b[32m40.7/40.7 kB\u001b[0m \u001b[31m5.5 MB/s\u001b[0m eta \u001b[36m0:00:00\u001b[0m\n",
            "\u001b[?25hCollecting pulsar-client>=3.1.0 (from chromadb)\n",
            "  Downloading pulsar_client-3.4.0-cp310-cp310-manylinux_2_17_x86_64.manylinux2014_x86_64.whl (5.4 MB)\n",
            "\u001b[2K     \u001b[90m━━━━━━━━━━━━━━━━━━━━━━━━━━━━━━━━━━━━━━━━\u001b[0m \u001b[32m5.4/5.4 MB\u001b[0m \u001b[31m42.1 MB/s\u001b[0m eta \u001b[36m0:00:00\u001b[0m\n",
            "\u001b[?25hCollecting onnxruntime>=1.14.1 (from chromadb)\n",
            "  Downloading onnxruntime-1.16.3-cp310-cp310-manylinux_2_17_x86_64.manylinux2014_x86_64.whl (6.4 MB)\n",
            "\u001b[2K     \u001b[90m━━━━━━━━━━━━━━━━━━━━━━━━━━━━━━━━━━━━━━━━\u001b[0m \u001b[32m6.4/6.4 MB\u001b[0m \u001b[31m57.8 MB/s\u001b[0m eta \u001b[36m0:00:00\u001b[0m\n",
            "\u001b[?25hCollecting opentelemetry-api>=1.2.0 (from chromadb)\n",
            "  Downloading opentelemetry_api-1.22.0-py3-none-any.whl (57 kB)\n",
            "\u001b[2K     \u001b[90m━━━━━━━━━━━━━━━━━━━━━━━━━━━━━━━━━━━━━━━━\u001b[0m \u001b[32m57.9/57.9 kB\u001b[0m \u001b[31m8.2 MB/s\u001b[0m eta \u001b[36m0:00:00\u001b[0m\n",
            "\u001b[?25hCollecting opentelemetry-exporter-otlp-proto-grpc>=1.2.0 (from chromadb)\n",
            "  Downloading opentelemetry_exporter_otlp_proto_grpc-1.22.0-py3-none-any.whl (18 kB)\n",
            "Collecting opentelemetry-instrumentation-fastapi>=0.41b0 (from chromadb)\n",
            "  Downloading opentelemetry_instrumentation_fastapi-0.43b0-py3-none-any.whl (11 kB)\n",
            "Collecting opentelemetry-sdk>=1.2.0 (from chromadb)\n",
            "  Downloading opentelemetry_sdk-1.22.0-py3-none-any.whl (105 kB)\n",
            "\u001b[2K     \u001b[90m━━━━━━━━━━━━━━━━━━━━━━━━━━━━━━━━━━━━━━━━\u001b[0m \u001b[32m105.6/105.6 kB\u001b[0m \u001b[31m14.3 MB/s\u001b[0m eta \u001b[36m0:00:00\u001b[0m\n",
            "\u001b[?25hRequirement already satisfied: tokenizers>=0.13.2 in /usr/local/lib/python3.10/dist-packages (from chromadb) (0.15.1)\n",
            "Collecting pypika>=0.48.9 (from chromadb)\n",
            "  Downloading PyPika-0.48.9.tar.gz (67 kB)\n",
            "\u001b[2K     \u001b[90m━━━━━━━━━━━━━━━━━━━━━━━━━━━━━━━━━━━━━━━━\u001b[0m \u001b[32m67.3/67.3 kB\u001b[0m \u001b[31m9.7 MB/s\u001b[0m eta \u001b[36m0:00:00\u001b[0m\n",
            "\u001b[?25h  Installing build dependencies ... \u001b[?25l\u001b[?25hdone\n",
            "  Getting requirements to build wheel ... \u001b[?25l\u001b[?25hdone\n",
            "  Preparing metadata (pyproject.toml) ... \u001b[?25l\u001b[?25hdone\n",
            "Requirement already satisfied: tqdm>=4.65.0 in /usr/local/lib/python3.10/dist-packages (from chromadb) (4.66.1)\n",
            "Collecting overrides>=7.3.1 (from chromadb)\n",
            "  Downloading overrides-7.6.0-py3-none-any.whl (17 kB)\n",
            "Requirement already satisfied: importlib-resources in /usr/local/lib/python3.10/dist-packages (from chromadb) (6.1.1)\n",
            "Requirement already satisfied: grpcio>=1.58.0 in /usr/local/lib/python3.10/dist-packages (from chromadb) (1.60.0)\n",
            "Collecting bcrypt>=4.0.1 (from chromadb)\n",
            "  Downloading bcrypt-4.1.2-cp39-abi3-manylinux_2_28_x86_64.whl (698 kB)\n",
            "\u001b[2K     \u001b[90m━━━━━━━━━━━━━━━━━━━━━━━━━━━━━━━━━━━━━━━━\u001b[0m \u001b[32m698.9/698.9 kB\u001b[0m \u001b[31m42.4 MB/s\u001b[0m eta \u001b[36m0:00:00\u001b[0m\n",
            "\u001b[?25hRequirement already satisfied: typer>=0.9.0 in /usr/local/lib/python3.10/dist-packages (from chromadb) (0.9.0)\n",
            "Collecting kubernetes>=28.1.0 (from chromadb)\n",
            "  Downloading kubernetes-29.0.0-py2.py3-none-any.whl (1.6 MB)\n",
            "\u001b[2K     \u001b[90m━━━━━━━━━━━━━━━━━━━━━━━━━━━━━━━━━━━━━━━━\u001b[0m \u001b[32m1.6/1.6 MB\u001b[0m \u001b[31m78.3 MB/s\u001b[0m eta \u001b[36m0:00:00\u001b[0m\n",
            "\u001b[?25hRequirement already satisfied: tenacity>=8.2.3 in /usr/local/lib/python3.10/dist-packages (from chromadb) (8.2.3)\n",
            "Requirement already satisfied: PyYAML>=6.0.0 in /usr/local/lib/python3.10/dist-packages (from chromadb) (6.0.1)\n",
            "Collecting mmh3>=4.0.1 (from chromadb)\n",
            "  Downloading mmh3-4.1.0-cp310-cp310-manylinux_2_5_x86_64.manylinux1_x86_64.manylinux_2_17_x86_64.manylinux2014_x86_64.whl (67 kB)\n",
            "\u001b[2K     \u001b[90m━━━━━━━━━━━━━━━━━━━━━━━━━━━━━━━━━━━━━━━━\u001b[0m \u001b[32m67.6/67.6 kB\u001b[0m \u001b[31m9.7 MB/s\u001b[0m eta \u001b[36m0:00:00\u001b[0m\n",
            "\u001b[?25hRequirement already satisfied: SQLAlchemy<3,>=1.4 in /usr/local/lib/python3.10/dist-packages (from langchain) (2.0.24)\n",
            "Requirement already satisfied: aiohttp<4.0.0,>=3.8.3 in /usr/local/lib/python3.10/dist-packages (from langchain) (3.9.1)\n",
            "Requirement already satisfied: async-timeout<5.0.0,>=4.0.0 in /usr/local/lib/python3.10/dist-packages (from langchain) (4.0.3)\n",
            "Collecting dataclasses-json<0.7,>=0.5.7 (from langchain)\n",
            "  Downloading dataclasses_json-0.6.3-py3-none-any.whl (28 kB)\n",
            "Collecting jsonpatch<2.0,>=1.33 (from langchain)\n",
            "  Downloading jsonpatch-1.33-py2.py3-none-any.whl (12 kB)\n",
            "Collecting langchain-community<0.1,>=0.0.14 (from langchain)\n",
            "  Downloading langchain_community-0.0.15-py3-none-any.whl (1.6 MB)\n",
            "\u001b[2K     \u001b[90m━━━━━━━━━━━━━━━━━━━━━━━━━━━━━━━━━━━━━━━━\u001b[0m \u001b[32m1.6/1.6 MB\u001b[0m \u001b[31m69.2 MB/s\u001b[0m eta \u001b[36m0:00:00\u001b[0m\n",
            "\u001b[?25hCollecting langchain-core<0.2,>=0.1.14 (from langchain)\n",
            "  Downloading langchain_core-0.1.15-py3-none-any.whl (229 kB)\n",
            "\u001b[2K     \u001b[90m━━━━━━━━━━━━━━━━━━━━━━━━━━━━━━━━━━━━━━━━\u001b[0m \u001b[32m229.6/229.6 kB\u001b[0m \u001b[31m27.0 MB/s\u001b[0m eta \u001b[36m0:00:00\u001b[0m\n",
            "\u001b[?25hCollecting langsmith<0.1,>=0.0.83 (from langchain)\n",
            "  Downloading langsmith-0.0.83-py3-none-any.whl (49 kB)\n",
            "\u001b[2K     \u001b[90m━━━━━━━━━━━━━━━━━━━━━━━━━━━━━━━━━━━━━━━━\u001b[0m \u001b[32m49.3/49.3 kB\u001b[0m \u001b[31m7.4 MB/s\u001b[0m eta \u001b[36m0:00:00\u001b[0m\n",
            "\u001b[?25hRequirement already satisfied: transformers<5.0.0,>=4.6.0 in /usr/local/lib/python3.10/dist-packages (from sentence_transformers) (4.35.2)\n",
            "Requirement already satisfied: torch>=1.6.0 in /usr/local/lib/python3.10/dist-packages (from sentence_transformers) (2.1.0+cu121)\n",
            "Requirement already satisfied: torchvision in /usr/local/lib/python3.10/dist-packages (from sentence_transformers) (0.16.0+cu121)\n",
            "Requirement already satisfied: scikit-learn in /usr/local/lib/python3.10/dist-packages (from sentence_transformers) (1.2.2)\n",
            "Requirement already satisfied: scipy in /usr/local/lib/python3.10/dist-packages (from sentence_transformers) (1.11.4)\n",
            "Requirement already satisfied: nltk in /usr/local/lib/python3.10/dist-packages (from sentence_transformers) (3.8.1)\n",
            "Collecting sentencepiece (from sentence_transformers)\n",
            "  Downloading sentencepiece-0.1.99-cp310-cp310-manylinux_2_17_x86_64.manylinux2014_x86_64.whl (1.3 MB)\n",
            "\u001b[2K     \u001b[90m━━━━━━━━━━━━━━━━━━━━━━━━━━━━━━━━━━━━━━━━\u001b[0m \u001b[32m1.3/1.3 MB\u001b[0m \u001b[31m63.9 MB/s\u001b[0m eta \u001b[36m0:00:00\u001b[0m\n",
            "\u001b[?25hRequirement already satisfied: huggingface-hub>=0.4.0 in /usr/local/lib/python3.10/dist-packages (from sentence_transformers) (0.20.3)\n",
            "Requirement already satisfied: attrs>=17.3.0 in /usr/local/lib/python3.10/dist-packages (from aiohttp<4.0.0,>=3.8.3->langchain) (23.2.0)\n",
            "Requirement already satisfied: multidict<7.0,>=4.5 in /usr/local/lib/python3.10/dist-packages (from aiohttp<4.0.0,>=3.8.3->langchain) (6.0.4)\n",
            "Requirement already satisfied: yarl<2.0,>=1.0 in /usr/local/lib/python3.10/dist-packages (from aiohttp<4.0.0,>=3.8.3->langchain) (1.9.4)\n",
            "Requirement already satisfied: frozenlist>=1.1.1 in /usr/local/lib/python3.10/dist-packages (from aiohttp<4.0.0,>=3.8.3->langchain) (1.4.1)\n",
            "Requirement already satisfied: aiosignal>=1.1.2 in /usr/local/lib/python3.10/dist-packages (from aiohttp<4.0.0,>=3.8.3->langchain) (1.3.1)\n",
            "Requirement already satisfied: packaging>=19.0 in /usr/local/lib/python3.10/dist-packages (from build>=1.0.3->chromadb) (23.2)\n",
            "Requirement already satisfied: pyproject_hooks in /usr/local/lib/python3.10/dist-packages (from build>=1.0.3->chromadb) (1.0.0)\n",
            "Requirement already satisfied: tomli>=1.1.0 in /usr/local/lib/python3.10/dist-packages (from build>=1.0.3->chromadb) (2.0.1)\n",
            "Collecting marshmallow<4.0.0,>=3.18.0 (from dataclasses-json<0.7,>=0.5.7->langchain)\n",
            "  Downloading marshmallow-3.20.2-py3-none-any.whl (49 kB)\n",
            "\u001b[2K     \u001b[90m━━━━━━━━━━━━━━━━━━━━━━━━━━━━━━━━━━━━━━━━\u001b[0m \u001b[32m49.4/49.4 kB\u001b[0m \u001b[31m7.2 MB/s\u001b[0m eta \u001b[36m0:00:00\u001b[0m\n",
            "\u001b[?25hCollecting typing-inspect<1,>=0.4.0 (from dataclasses-json<0.7,>=0.5.7->langchain)\n",
            "  Downloading typing_inspect-0.9.0-py3-none-any.whl (8.8 kB)\n",
            "Collecting starlette<0.36.0,>=0.35.0 (from fastapi>=0.95.2->chromadb)\n",
            "  Downloading starlette-0.35.1-py3-none-any.whl (71 kB)\n",
            "\u001b[2K     \u001b[90m━━━━━━━━━━━━━━━━━━━━━━━━━━━━━━━━━━━━━━━━\u001b[0m \u001b[32m71.1/71.1 kB\u001b[0m \u001b[31m10.9 MB/s\u001b[0m eta \u001b[36m0:00:00\u001b[0m\n",
            "\u001b[?25hCollecting typing-extensions>=4.5.0 (from llama-cpp-python)\n",
            "  Downloading typing_extensions-4.9.0-py3-none-any.whl (32 kB)\n",
            "Requirement already satisfied: filelock in /usr/local/lib/python3.10/dist-packages (from huggingface-hub>=0.4.0->sentence_transformers) (3.13.1)\n",
            "Requirement already satisfied: fsspec>=2023.5.0 in /usr/local/lib/python3.10/dist-packages (from huggingface-hub>=0.4.0->sentence_transformers) (2023.6.0)\n",
            "Requirement already satisfied: MarkupSafe>=2.0 in /usr/local/lib/python3.10/dist-packages (from jinja2>=2.11.3->llama-cpp-python) (2.1.4)\n",
            "Collecting jsonpointer>=1.9 (from jsonpatch<2.0,>=1.33->langchain)\n",
            "  Downloading jsonpointer-2.4-py2.py3-none-any.whl (7.8 kB)\n",
            "Requirement already satisfied: certifi>=14.05.14 in /usr/local/lib/python3.10/dist-packages (from kubernetes>=28.1.0->chromadb) (2023.11.17)\n",
            "Requirement already satisfied: six>=1.9.0 in /usr/local/lib/python3.10/dist-packages (from kubernetes>=28.1.0->chromadb) (1.16.0)\n",
            "Requirement already satisfied: python-dateutil>=2.5.3 in /usr/local/lib/python3.10/dist-packages (from kubernetes>=28.1.0->chromadb) (2.8.2)\n",
            "Requirement already satisfied: google-auth>=1.0.1 in /usr/local/lib/python3.10/dist-packages (from kubernetes>=28.1.0->chromadb) (2.17.3)\n",
            "Requirement already satisfied: websocket-client!=0.40.0,!=0.41.*,!=0.42.*,>=0.32.0 in /usr/local/lib/python3.10/dist-packages (from kubernetes>=28.1.0->chromadb) (1.7.0)\n",
            "Requirement already satisfied: requests-oauthlib in /usr/local/lib/python3.10/dist-packages (from kubernetes>=28.1.0->chromadb) (1.3.1)\n",
            "Requirement already satisfied: oauthlib>=3.2.2 in /usr/local/lib/python3.10/dist-packages (from kubernetes>=28.1.0->chromadb) (3.2.2)\n",
            "Requirement already satisfied: urllib3>=1.24.2 in /usr/local/lib/python3.10/dist-packages (from kubernetes>=28.1.0->chromadb) (2.0.7)\n",
            "Requirement already satisfied: anyio<5,>=3 in /usr/local/lib/python3.10/dist-packages (from langchain-core<0.2,>=0.1.14->langchain) (3.7.1)\n",
            "Collecting coloredlogs (from onnxruntime>=1.14.1->chromadb)\n",
            "  Downloading coloredlogs-15.0.1-py2.py3-none-any.whl (46 kB)\n",
            "\u001b[2K     \u001b[90m━━━━━━━━━━━━━━━━━━━━━━━━━━━━━━━━━━━━━━━━\u001b[0m \u001b[32m46.0/46.0 kB\u001b[0m \u001b[31m6.4 MB/s\u001b[0m eta \u001b[36m0:00:00\u001b[0m\n",
            "\u001b[?25hRequirement already satisfied: flatbuffers in /usr/local/lib/python3.10/dist-packages (from onnxruntime>=1.14.1->chromadb) (23.5.26)\n",
            "Requirement already satisfied: protobuf in /usr/local/lib/python3.10/dist-packages (from onnxruntime>=1.14.1->chromadb) (3.20.3)\n",
            "Requirement already satisfied: sympy in /usr/local/lib/python3.10/dist-packages (from onnxruntime>=1.14.1->chromadb) (1.12)\n",
            "Collecting deprecated>=1.2.6 (from opentelemetry-api>=1.2.0->chromadb)\n",
            "  Downloading Deprecated-1.2.14-py2.py3-none-any.whl (9.6 kB)\n",
            "Collecting importlib-metadata<7.0,>=6.0 (from opentelemetry-api>=1.2.0->chromadb)\n",
            "  Downloading importlib_metadata-6.11.0-py3-none-any.whl (23 kB)\n",
            "Collecting backoff<3.0.0,>=1.10.0 (from opentelemetry-exporter-otlp-proto-grpc>=1.2.0->chromadb)\n",
            "  Downloading backoff-2.2.1-py3-none-any.whl (15 kB)\n",
            "Requirement already satisfied: googleapis-common-protos~=1.52 in /usr/local/lib/python3.10/dist-packages (from opentelemetry-exporter-otlp-proto-grpc>=1.2.0->chromadb) (1.62.0)\n",
            "Collecting opentelemetry-exporter-otlp-proto-common==1.22.0 (from opentelemetry-exporter-otlp-proto-grpc>=1.2.0->chromadb)\n",
            "  Downloading opentelemetry_exporter_otlp_proto_common-1.22.0-py3-none-any.whl (17 kB)\n",
            "Collecting opentelemetry-proto==1.22.0 (from opentelemetry-exporter-otlp-proto-grpc>=1.2.0->chromadb)\n",
            "  Downloading opentelemetry_proto-1.22.0-py3-none-any.whl (50 kB)\n",
            "\u001b[2K     \u001b[90m━━━━━━━━━━━━━━━━━━━━━━━━━━━━━━━━━━━━━━━━\u001b[0m \u001b[32m50.8/50.8 kB\u001b[0m \u001b[31m6.7 MB/s\u001b[0m eta \u001b[36m0:00:00\u001b[0m\n",
            "\u001b[?25hCollecting opentelemetry-instrumentation-asgi==0.43b0 (from opentelemetry-instrumentation-fastapi>=0.41b0->chromadb)\n",
            "  Downloading opentelemetry_instrumentation_asgi-0.43b0-py3-none-any.whl (14 kB)\n",
            "Collecting opentelemetry-instrumentation==0.43b0 (from opentelemetry-instrumentation-fastapi>=0.41b0->chromadb)\n",
            "  Downloading opentelemetry_instrumentation-0.43b0-py3-none-any.whl (28 kB)\n",
            "Collecting opentelemetry-semantic-conventions==0.43b0 (from opentelemetry-instrumentation-fastapi>=0.41b0->chromadb)\n",
            "  Downloading opentelemetry_semantic_conventions-0.43b0-py3-none-any.whl (36 kB)\n",
            "Collecting opentelemetry-util-http==0.43b0 (from opentelemetry-instrumentation-fastapi>=0.41b0->chromadb)\n",
            "  Downloading opentelemetry_util_http-0.43b0-py3-none-any.whl (6.9 kB)\n",
            "Requirement already satisfied: setuptools>=16.0 in /usr/local/lib/python3.10/dist-packages (from opentelemetry-instrumentation==0.43b0->opentelemetry-instrumentation-fastapi>=0.41b0->chromadb) (67.7.2)\n",
            "Requirement already satisfied: wrapt<2.0.0,>=1.0.0 in /usr/local/lib/python3.10/dist-packages (from opentelemetry-instrumentation==0.43b0->opentelemetry-instrumentation-fastapi>=0.41b0->chromadb) (1.14.1)\n",
            "Collecting asgiref~=3.0 (from opentelemetry-instrumentation-asgi==0.43b0->opentelemetry-instrumentation-fastapi>=0.41b0->chromadb)\n",
            "  Downloading asgiref-3.7.2-py3-none-any.whl (24 kB)\n",
            "Collecting monotonic>=1.5 (from posthog>=2.4.0->chromadb)\n",
            "  Downloading monotonic-1.6-py2.py3-none-any.whl (8.2 kB)\n",
            "Requirement already satisfied: charset-normalizer<4,>=2 in /usr/local/lib/python3.10/dist-packages (from requests>=2.28->chromadb) (3.3.2)\n",
            "Requirement already satisfied: idna<4,>=2.5 in /usr/local/lib/python3.10/dist-packages (from requests>=2.28->chromadb) (3.6)\n",
            "Requirement already satisfied: greenlet!=0.4.17 in /usr/local/lib/python3.10/dist-packages (from SQLAlchemy<3,>=1.4->langchain) (3.0.3)\n",
            "Requirement already satisfied: networkx in /usr/local/lib/python3.10/dist-packages (from torch>=1.6.0->sentence_transformers) (3.2.1)\n",
            "Requirement already satisfied: triton==2.1.0 in /usr/local/lib/python3.10/dist-packages (from torch>=1.6.0->sentence_transformers) (2.1.0)\n",
            "Requirement already satisfied: regex!=2019.12.17 in /usr/local/lib/python3.10/dist-packages (from transformers<5.0.0,>=4.6.0->sentence_transformers) (2023.6.3)\n",
            "Requirement already satisfied: safetensors>=0.3.1 in /usr/local/lib/python3.10/dist-packages (from transformers<5.0.0,>=4.6.0->sentence_transformers) (0.4.1)\n",
            "Requirement already satisfied: click<9.0.0,>=7.1.1 in /usr/local/lib/python3.10/dist-packages (from typer>=0.9.0->chromadb) (8.1.7)\n",
            "Collecting h11>=0.8 (from uvicorn[standard]>=0.18.3->chromadb)\n",
            "  Downloading h11-0.14.0-py3-none-any.whl (58 kB)\n",
            "\u001b[2K     \u001b[90m━━━━━━━━━━━━━━━━━━━━━━━━━━━━━━━━━━━━━━━━\u001b[0m \u001b[32m58.3/58.3 kB\u001b[0m \u001b[31m8.6 MB/s\u001b[0m eta \u001b[36m0:00:00\u001b[0m\n",
            "\u001b[?25hCollecting httptools>=0.5.0 (from uvicorn[standard]>=0.18.3->chromadb)\n",
            "  Downloading httptools-0.6.1-cp310-cp310-manylinux_2_5_x86_64.manylinux1_x86_64.manylinux_2_17_x86_64.manylinux2014_x86_64.whl (341 kB)\n",
            "\u001b[2K     \u001b[90m━━━━━━━━━━━━━━━━━━━━━━━━━━━━━━━━━━━━━━━━\u001b[0m \u001b[32m341.4/341.4 kB\u001b[0m \u001b[31m27.6 MB/s\u001b[0m eta \u001b[36m0:00:00\u001b[0m\n",
            "\u001b[?25hCollecting python-dotenv>=0.13 (from uvicorn[standard]>=0.18.3->chromadb)\n",
            "  Downloading python_dotenv-1.0.1-py3-none-any.whl (19 kB)\n",
            "Collecting uvloop!=0.15.0,!=0.15.1,>=0.14.0 (from uvicorn[standard]>=0.18.3->chromadb)\n",
            "  Downloading uvloop-0.19.0-cp310-cp310-manylinux_2_17_x86_64.manylinux2014_x86_64.whl (3.4 MB)\n",
            "\u001b[2K     \u001b[90m━━━━━━━━━━━━━━━━━━━━━━━━━━━━━━━━━━━━━━━━\u001b[0m \u001b[32m3.4/3.4 MB\u001b[0m \u001b[31m65.0 MB/s\u001b[0m eta \u001b[36m0:00:00\u001b[0m\n",
            "\u001b[?25hCollecting watchfiles>=0.13 (from uvicorn[standard]>=0.18.3->chromadb)\n",
            "  Downloading watchfiles-0.21.0-cp310-cp310-manylinux_2_17_x86_64.manylinux2014_x86_64.whl (1.3 MB)\n",
            "\u001b[2K     \u001b[90m━━━━━━━━━━━━━━━━━━━━━━━━━━━━━━━━━━━━━━━━\u001b[0m \u001b[32m1.3/1.3 MB\u001b[0m \u001b[31m81.1 MB/s\u001b[0m eta \u001b[36m0:00:00\u001b[0m\n",
            "\u001b[?25hCollecting websockets>=10.4 (from uvicorn[standard]>=0.18.3->chromadb)\n",
            "  Downloading websockets-12.0-cp310-cp310-manylinux_2_5_x86_64.manylinux1_x86_64.manylinux_2_17_x86_64.manylinux2014_x86_64.whl (130 kB)\n",
            "\u001b[2K     \u001b[90m━━━━━━━━━━━━━━━━━━━━━━━━━━━━━━━━━━━━━━━━\u001b[0m \u001b[32m130.2/130.2 kB\u001b[0m \u001b[31m17.9 MB/s\u001b[0m eta \u001b[36m0:00:00\u001b[0m\n",
            "\u001b[?25hRequirement already satisfied: joblib in /usr/local/lib/python3.10/dist-packages (from nltk->sentence_transformers) (1.3.2)\n",
            "Requirement already satisfied: threadpoolctl>=2.0.0 in /usr/local/lib/python3.10/dist-packages (from scikit-learn->sentence_transformers) (3.2.0)\n",
            "Requirement already satisfied: pillow!=8.3.*,>=5.3.0 in /usr/local/lib/python3.10/dist-packages (from torchvision->sentence_transformers) (9.4.0)\n",
            "Requirement already satisfied: sniffio>=1.1 in /usr/local/lib/python3.10/dist-packages (from anyio<5,>=3->langchain-core<0.2,>=0.1.14->langchain) (1.3.0)\n",
            "Requirement already satisfied: exceptiongroup in /usr/local/lib/python3.10/dist-packages (from anyio<5,>=3->langchain-core<0.2,>=0.1.14->langchain) (1.2.0)\n",
            "Requirement already satisfied: cachetools<6.0,>=2.0.0 in /usr/local/lib/python3.10/dist-packages (from google-auth>=1.0.1->kubernetes>=28.1.0->chromadb) (5.3.2)\n",
            "Requirement already satisfied: pyasn1-modules>=0.2.1 in /usr/local/lib/python3.10/dist-packages (from google-auth>=1.0.1->kubernetes>=28.1.0->chromadb) (0.3.0)\n",
            "Requirement already satisfied: rsa<5,>=3.1.4 in /usr/local/lib/python3.10/dist-packages (from google-auth>=1.0.1->kubernetes>=28.1.0->chromadb) (4.9)\n",
            "Requirement already satisfied: zipp>=0.5 in /usr/local/lib/python3.10/dist-packages (from importlib-metadata<7.0,>=6.0->opentelemetry-api>=1.2.0->chromadb) (3.17.0)\n",
            "Collecting mypy-extensions>=0.3.0 (from typing-inspect<1,>=0.4.0->dataclasses-json<0.7,>=0.5.7->langchain)\n",
            "  Downloading mypy_extensions-1.0.0-py3-none-any.whl (4.7 kB)\n",
            "Collecting humanfriendly>=9.1 (from coloredlogs->onnxruntime>=1.14.1->chromadb)\n",
            "  Downloading humanfriendly-10.0-py2.py3-none-any.whl (86 kB)\n",
            "\u001b[2K     \u001b[90m━━━━━━━━━━━━━━━━━━━━━━━━━━━━━━━━━━━━━━━━\u001b[0m \u001b[32m86.8/86.8 kB\u001b[0m \u001b[31m12.5 MB/s\u001b[0m eta \u001b[36m0:00:00\u001b[0m\n",
            "\u001b[?25hRequirement already satisfied: mpmath>=0.19 in /usr/local/lib/python3.10/dist-packages (from sympy->onnxruntime>=1.14.1->chromadb) (1.3.0)\n",
            "Requirement already satisfied: pyasn1<0.6.0,>=0.4.6 in /usr/local/lib/python3.10/dist-packages (from pyasn1-modules>=0.2.1->google-auth>=1.0.1->kubernetes>=28.1.0->chromadb) (0.5.1)\n",
            "Building wheels for collected packages: llama-cpp-python, sentence_transformers, pypika\n",
            "  Building wheel for llama-cpp-python (pyproject.toml) ... \u001b[?25l\u001b[?25hdone\n",
            "  Created wheel for llama-cpp-python: filename=llama_cpp_python-0.2.32-cp310-cp310-manylinux_2_35_x86_64.whl size=2403868 sha256=c90cb79767cd6c9cd7620ec0ef16a523f550c75a18a847bef15bd710a56c4e1f\n",
            "  Stored in directory: /root/.cache/pip/wheels/fd/34/e2/592ae50a491d192807efe8a6abcb3622fb2190402252a7258f\n",
            "  Building wheel for sentence_transformers (setup.py) ... \u001b[?25l\u001b[?25hdone\n",
            "  Created wheel for sentence_transformers: filename=sentence_transformers-2.2.2-py3-none-any.whl size=125923 sha256=961d8bd4a637ef2d00b5cb3dd8c0da61d648efb2b7135ec1fbcd18fd0f9f7981\n",
            "  Stored in directory: /root/.cache/pip/wheels/62/f2/10/1e606fd5f02395388f74e7462910fe851042f97238cbbd902f\n",
            "  Building wheel for pypika (pyproject.toml) ... \u001b[?25l\u001b[?25hdone\n",
            "  Created wheel for pypika: filename=PyPika-0.48.9-py2.py3-none-any.whl size=53723 sha256=249c60f3cc5ec588b35973bc8de0a292de2969782609d2d15fbf7e4b3f2f7d7f\n",
            "  Stored in directory: /root/.cache/pip/wheels/e1/26/51/d0bffb3d2fd82256676d7ad3003faea3bd6dddc9577af665f4\n",
            "Successfully built llama-cpp-python sentence_transformers pypika\n",
            "Installing collected packages: sentencepiece, pypika, monotonic, mmh3, websockets, uvloop, typing-extensions, python-dotenv, pulsar-client, overrides, opentelemetry-util-http, opentelemetry-semantic-conventions, opentelemetry-proto, mypy-extensions, marshmallow, jsonpointer, importlib-metadata, humanfriendly, httptools, h11, deprecated, chroma-hnswlib, bcrypt, backoff, watchfiles, uvicorn, typing-inspect, starlette, posthog, opentelemetry-exporter-otlp-proto-common, opentelemetry-api, llama-cpp-python, jsonpatch, coloredlogs, asgiref, opentelemetry-sdk, opentelemetry-instrumentation, onnxruntime, langsmith, kubernetes, fastapi, dataclasses-json, opentelemetry-instrumentation-asgi, opentelemetry-exporter-otlp-proto-grpc, langchain-core, sentence_transformers, opentelemetry-instrumentation-fastapi, langchain-community, langchain, chromadb\n",
            "  Attempting uninstall: typing-extensions\n",
            "    Found existing installation: typing_extensions 4.5.0\n",
            "    Uninstalling typing_extensions-4.5.0:\n",
            "      Successfully uninstalled typing_extensions-4.5.0\n",
            "  Attempting uninstall: importlib-metadata\n",
            "    Found existing installation: importlib-metadata 7.0.1\n",
            "    Uninstalling importlib-metadata-7.0.1:\n",
            "      Successfully uninstalled importlib-metadata-7.0.1\n",
            "\u001b[31mERROR: pip's dependency resolver does not currently take into account all the packages that are installed. This behaviour is the source of the following dependency conflicts.\n",
            "lida 0.0.10 requires kaleido, which is not installed.\n",
            "lida 0.0.10 requires python-multipart, which is not installed.\n",
            "tensorflow-probability 0.22.0 requires typing-extensions<4.6.0, but you have typing-extensions 4.9.0 which is incompatible.\u001b[0m\u001b[31m\n",
            "\u001b[0mSuccessfully installed asgiref-3.7.2 backoff-2.2.1 bcrypt-4.1.2 chroma-hnswlib-0.7.3 chromadb-0.4.22 coloredlogs-15.0.1 dataclasses-json-0.6.3 deprecated-1.2.14 fastapi-0.109.0 h11-0.14.0 httptools-0.6.1 humanfriendly-10.0 importlib-metadata-6.11.0 jsonpatch-1.33 jsonpointer-2.4 kubernetes-29.0.0 langchain-0.1.3 langchain-community-0.0.15 langchain-core-0.1.15 langsmith-0.0.83 llama-cpp-python-0.2.32 marshmallow-3.20.2 mmh3-4.1.0 monotonic-1.6 mypy-extensions-1.0.0 onnxruntime-1.16.3 opentelemetry-api-1.22.0 opentelemetry-exporter-otlp-proto-common-1.22.0 opentelemetry-exporter-otlp-proto-grpc-1.22.0 opentelemetry-instrumentation-0.43b0 opentelemetry-instrumentation-asgi-0.43b0 opentelemetry-instrumentation-fastapi-0.43b0 opentelemetry-proto-1.22.0 opentelemetry-sdk-1.22.0 opentelemetry-semantic-conventions-0.43b0 opentelemetry-util-http-0.43b0 overrides-7.6.0 posthog-3.3.2 pulsar-client-3.4.0 pypika-0.48.9 python-dotenv-1.0.1 sentence_transformers-2.2.2 sentencepiece-0.1.99 starlette-0.35.1 typing-extensions-4.9.0 typing-inspect-0.9.0 uvicorn-0.27.0 uvloop-0.19.0 watchfiles-0.21.0 websockets-12.0\n"
          ]
        }
      ],
      "source": [
        "!pip install llama-cpp-python chromadb langchain sentence_transformers"
      ]
    },
    {
      "cell_type": "code",
      "source": [
        "import warnings\n",
        "from pprint import pprint as pp\n",
        "from pprint import pp\n",
        "from langchain.chains import LLMChain\n",
        "from langchain.document_loaders.text import TextLoader\n",
        "from langchain_community.document_loaders import UnstructuredExcelLoader\n",
        "from langchain.document_loaders.directory import DirectoryLoader\n",
        "from langchain.text_splitter import RecursiveCharacterTextSplitter\n",
        "from langchain.prompts import PromptTemplate\n",
        "from langchain.callbacks.streaming_stdout import StreamingStdOutCallbackHandler\n",
        "from langchain.callbacks.manager import CallbackManager\n",
        "from langchain.embeddings.llamacpp import LlamaCppEmbeddings\n",
        "from langchain.vectorstores.chroma import Chroma\n",
        "from langchain.chains import RetrievalQA\n",
        "from langchain_community.embeddings.sentence_transformer import (\n",
        "    SentenceTransformerEmbeddings,\n",
        ")\n",
        "from sentence_transformers import SentenceTransformer\n",
        "from langchain_community.llms import GPT4All\n"
      ],
      "metadata": {
        "id": "12qu88RxFuMJ"
      },
      "execution_count": null,
      "outputs": []
    },
    {
      "cell_type": "code",
      "source": [
        "!pip install unstructured\n",
        "# для экселя"
      ],
      "metadata": {
        "colab": {
          "base_uri": "https://localhost:8080/"
        },
        "id": "tGwYzOE9G1cu",
        "outputId": "687eb9f0-8939-4487-d23f-78075a58e894"
      },
      "execution_count": null,
      "outputs": [
        {
          "output_type": "stream",
          "name": "stdout",
          "text": [
            "Collecting unstructured\n",
            "  Downloading unstructured-0.12.2-py3-none-any.whl (1.8 MB)\n",
            "\u001b[2K     \u001b[90m━━━━━━━━━━━━━━━━━━━━━━━━━━━━━━━━━━━━━━━━\u001b[0m \u001b[32m1.8/1.8 MB\u001b[0m \u001b[31m10.9 MB/s\u001b[0m eta \u001b[36m0:00:00\u001b[0m\n",
            "\u001b[?25hRequirement already satisfied: chardet in /usr/local/lib/python3.10/dist-packages (from unstructured) (5.2.0)\n",
            "Collecting filetype (from unstructured)\n",
            "  Downloading filetype-1.2.0-py2.py3-none-any.whl (19 kB)\n",
            "Collecting python-magic (from unstructured)\n",
            "  Downloading python_magic-0.4.27-py2.py3-none-any.whl (13 kB)\n",
            "Requirement already satisfied: lxml in /usr/local/lib/python3.10/dist-packages (from unstructured) (4.9.4)\n",
            "Requirement already satisfied: nltk in /usr/local/lib/python3.10/dist-packages (from unstructured) (3.8.1)\n",
            "Requirement already satisfied: tabulate in /usr/local/lib/python3.10/dist-packages (from unstructured) (0.9.0)\n",
            "Requirement already satisfied: requests in /usr/local/lib/python3.10/dist-packages (from unstructured) (2.31.0)\n",
            "Requirement already satisfied: beautifulsoup4 in /usr/local/lib/python3.10/dist-packages (from unstructured) (4.11.2)\n",
            "Collecting emoji (from unstructured)\n",
            "  Downloading emoji-2.10.0-py2.py3-none-any.whl (457 kB)\n",
            "\u001b[2K     \u001b[90m━━━━━━━━━━━━━━━━━━━━━━━━━━━━━━━━━━━━━━━━\u001b[0m \u001b[32m457.9/457.9 kB\u001b[0m \u001b[31m16.8 MB/s\u001b[0m eta \u001b[36m0:00:00\u001b[0m\n",
            "\u001b[?25hRequirement already satisfied: dataclasses-json in /usr/local/lib/python3.10/dist-packages (from unstructured) (0.6.3)\n",
            "Collecting python-iso639 (from unstructured)\n",
            "  Downloading python_iso639-2024.1.2-py3-none-any.whl (274 kB)\n",
            "\u001b[2K     \u001b[90m━━━━━━━━━━━━━━━━━━━━━━━━━━━━━━━━━━━━━━━━\u001b[0m \u001b[32m274.7/274.7 kB\u001b[0m \u001b[31m17.4 MB/s\u001b[0m eta \u001b[36m0:00:00\u001b[0m\n",
            "\u001b[?25hCollecting langdetect (from unstructured)\n",
            "  Downloading langdetect-1.0.9.tar.gz (981 kB)\n",
            "\u001b[2K     \u001b[90m━━━━━━━━━━━━━━━━━━━━━━━━━━━━━━━━━━━━━━━━\u001b[0m \u001b[32m981.5/981.5 kB\u001b[0m \u001b[31m25.1 MB/s\u001b[0m eta \u001b[36m0:00:00\u001b[0m\n",
            "\u001b[?25h  Preparing metadata (setup.py) ... \u001b[?25l\u001b[?25hdone\n",
            "Requirement already satisfied: numpy in /usr/local/lib/python3.10/dist-packages (from unstructured) (1.23.5)\n",
            "Collecting rapidfuzz (from unstructured)\n",
            "  Downloading rapidfuzz-3.6.1-cp310-cp310-manylinux_2_17_x86_64.manylinux2014_x86_64.whl (3.4 MB)\n",
            "\u001b[2K     \u001b[90m━━━━━━━━━━━━━━━━━━━━━━━━━━━━━━━━━━━━━━━━\u001b[0m \u001b[32m3.4/3.4 MB\u001b[0m \u001b[31m37.7 MB/s\u001b[0m eta \u001b[36m0:00:00\u001b[0m\n",
            "\u001b[?25hRequirement already satisfied: backoff in /usr/local/lib/python3.10/dist-packages (from unstructured) (2.2.1)\n",
            "Requirement already satisfied: typing-extensions in /usr/local/lib/python3.10/dist-packages (from unstructured) (4.9.0)\n",
            "Collecting unstructured-client>=0.15.1 (from unstructured)\n",
            "  Downloading unstructured_client-0.15.5-py3-none-any.whl (20 kB)\n",
            "Requirement already satisfied: wrapt in /usr/local/lib/python3.10/dist-packages (from unstructured) (1.14.1)\n",
            "Requirement already satisfied: certifi>=2023.7.22 in /usr/local/lib/python3.10/dist-packages (from unstructured-client>=0.15.1->unstructured) (2023.11.17)\n",
            "Requirement already satisfied: charset-normalizer>=3.2.0 in /usr/local/lib/python3.10/dist-packages (from unstructured-client>=0.15.1->unstructured) (3.3.2)\n",
            "Requirement already satisfied: idna>=3.4 in /usr/local/lib/python3.10/dist-packages (from unstructured-client>=0.15.1->unstructured) (3.6)\n",
            "Collecting jsonpath-python>=1.0.6 (from unstructured-client>=0.15.1->unstructured)\n",
            "  Downloading jsonpath_python-1.0.6-py3-none-any.whl (7.6 kB)\n",
            "Requirement already satisfied: marshmallow>=3.19.0 in /usr/local/lib/python3.10/dist-packages (from unstructured-client>=0.15.1->unstructured) (3.20.2)\n",
            "Requirement already satisfied: mypy-extensions>=1.0.0 in /usr/local/lib/python3.10/dist-packages (from unstructured-client>=0.15.1->unstructured) (1.0.0)\n",
            "Requirement already satisfied: packaging>=23.1 in /usr/local/lib/python3.10/dist-packages (from unstructured-client>=0.15.1->unstructured) (23.2)\n",
            "Requirement already satisfied: python-dateutil>=2.8.2 in /usr/local/lib/python3.10/dist-packages (from unstructured-client>=0.15.1->unstructured) (2.8.2)\n",
            "Requirement already satisfied: six>=1.16.0 in /usr/local/lib/python3.10/dist-packages (from unstructured-client>=0.15.1->unstructured) (1.16.0)\n",
            "Requirement already satisfied: typing-inspect>=0.9.0 in /usr/local/lib/python3.10/dist-packages (from unstructured-client>=0.15.1->unstructured) (0.9.0)\n",
            "Requirement already satisfied: urllib3>=1.26.18 in /usr/local/lib/python3.10/dist-packages (from unstructured-client>=0.15.1->unstructured) (2.0.7)\n",
            "Requirement already satisfied: soupsieve>1.2 in /usr/local/lib/python3.10/dist-packages (from beautifulsoup4->unstructured) (2.5)\n",
            "Requirement already satisfied: click in /usr/local/lib/python3.10/dist-packages (from nltk->unstructured) (8.1.7)\n",
            "Requirement already satisfied: joblib in /usr/local/lib/python3.10/dist-packages (from nltk->unstructured) (1.3.2)\n",
            "Requirement already satisfied: regex>=2021.8.3 in /usr/local/lib/python3.10/dist-packages (from nltk->unstructured) (2023.6.3)\n",
            "Requirement already satisfied: tqdm in /usr/local/lib/python3.10/dist-packages (from nltk->unstructured) (4.66.1)\n",
            "Building wheels for collected packages: langdetect\n",
            "  Building wheel for langdetect (setup.py) ... \u001b[?25l\u001b[?25hdone\n",
            "  Created wheel for langdetect: filename=langdetect-1.0.9-py3-none-any.whl size=993225 sha256=2a369cb8bdad14034a5289256bd362f5c8b6e3ac8eb5cc5832aaed1cad06307e\n",
            "  Stored in directory: /root/.cache/pip/wheels/95/03/7d/59ea870c70ce4e5a370638b5462a7711ab78fba2f655d05106\n",
            "Successfully built langdetect\n",
            "Installing collected packages: filetype, rapidfuzz, python-magic, python-iso639, langdetect, jsonpath-python, emoji, unstructured-client, unstructured\n",
            "Successfully installed emoji-2.10.0 filetype-1.2.0 jsonpath-python-1.0.6 langdetect-1.0.9 python-iso639-2024.1.2 python-magic-0.4.27 rapidfuzz-3.6.1 unstructured-0.12.2 unstructured-client-0.15.5\n"
          ]
        }
      ]
    },
    {
      "cell_type": "code",
      "source": [
        "# для текста скачивание и чанкование, обернуть в функцию\n",
        "path = ''\n",
        "text_loader_kwargs = {'autodetect_encoding': True}\n",
        "text_loader = DirectoryLoader(\n",
        "    path,\n",
        "    glob=\"**/*info.txt\",\n",
        "    loader_cls=TextLoader,\n",
        "    loader_kwargs=text_loader_kwargs\n",
        ")\n",
        "t_docs = text_loader.load()\n",
        "print(t_docs[0])\n",
        "splitter = RecursiveCharacterTextSplitter(\n",
        "    chunk_size=300,\n",
        "    chunk_overlap=100,\n",
        "    length_function=len,\n",
        "    is_separator_regex=False\n",
        ")\n",
        "t_splitted_data = splitter.split_documents(t_docs)\n",
        "pp(f'first chunk - {t_splitted_data[0].page_content}')\n",
        "print(f'len of splitted data - {len(t_splitted_data)}')"
      ],
      "metadata": {
        "colab": {
          "base_uri": "https://localhost:8080/"
        },
        "id": "cSGBiVfWrHLM",
        "outputId": "4df87aa2-5120-4d4b-b9ee-3be7f3bbd17f"
      },
      "execution_count": null,
      "outputs": [
        {
          "output_type": "stream",
          "name": "stdout",
          "text": [
            "page_content='Принципы здорового питания: это должен знать каждый!\\n\\nС чего же начать? Прежде всего, с твердого решения питаться правильно.\\n Вот несколько несложных правил, на которые опирается практически вся современная диетология и \\n которые помогут быстро освоить принципы здорового питания.\\n    Правило № 1. Навсегда забудьте про фастфуд и постарайтесь не \\n    злоупотреблять сладким.\\n    Правило № 2. Ешьте как можно больше сезонных продуктов — в них \\n    содержится максимум полезных веществ. Зимние овощи и фрукты, выращенные в теплицах \\n    или привезенные издалека, из-за обработки химикатами и длительного хранения не только \\n    теряют всю пользу, но и становятся аккумуляторами нитратов и других вредных химических соединений.\\n    Правило № 3. Максимально ограничьте употребление рафинированных продуктов: сахара, растительного масла,\\n    белой пшеничной муки, очищенного белого риса. В них нет клетчатки, которая очень важна для работы \\n    пищеварительного тракта, а также для питания полезных бактерий, живущих в кишечнике. Именно поэтому \\n    гораздо лучше вместо белого хлеба есть цельнозерновой, а рафинированный сахар заменить на коричневый или даже на мед.\\n    Правило № 4. Пейте воду. Чай, кофе и соки воду не заменяют. \\n    В сутки организму необходимо получать не меньше 30–35 мл жидкости на 1 кг веса.\\n    Сладкие газировки — полностью под запретом, в них содержится слишком много сахара.\\n    Правило № 5. Не забывайте о белковой пище. Она способна надолго дать чувство сытости \\n    и к тому же богата аминокислотами. Белки необходимы организму для строительства мышечной ткани, замены устаревших клеток. К богатым белками продуктам относятся различные виды мяса, рыба, кальмары, креветки, орехи, грибы, некоторые бобовые, яйца, творог.\\n\\nПриготовление пищи\\n\\n    Правило № 1. Используйте для приготовления пищи несколько видов\\n    растительного масла. Это лучший источник необходимых организму жирных кислот.\\n    Очень хорошо, если на кухне постоянно будут несколько бутылочек с разными маслами:\\n    оливковым, кунжутным, льняным, маслом грецкого и кедрового ореха. \\n    Помните, что нерафинированные масла не подходят для термической обработки.\\n    Правило № 2. Готовьте правильно. Сохранить все полезные вещества в\\n    продуктах можно при минимальной тепловой обработке. Макароны или крупу рекомендуется \\n    варить всего несколько минут. Кстати, классическая итальянская паста всегда должна быть чуть-чуть \\n    недоваренной и заправляться растительным маслом. Мясные и рыбные продукты обязательно должны быть термически \\n    обработаны, поскольку в них могут находиться паразиты. Но при этом от жарки на масле лучше отказаться, \\n    оптимальные способы — варка, запекание в духовом шкафу и приготовление на пару.\\n    Правило № 3. Используйте для готовки натуральные и свежие продукты. Любой \\n    полуфабрикат или товар длительного хранения с консервантами, усилителями \\n    вкуса и красителями увеличивает нагрузку на организм, препятствует выведению токсинов, \\n    замедляет обмен веществ. Кусочек курицы, запеченный в духовке, во много раз полезнее \\n    самой качественной и дорогой колбасы из магазина.\\n\\nРежим\\n\\n    Правило № 1. Обязательно соблюдайте режим питания. \\n    Редкие приемы пищи вредны так же, как постоянные перекусы и привычка все \\n    время что-нибудь жевать. Здоровому человеку оптимально есть 4–5 раз в день, \\n    промежуток между едой более 5 часов замедляет метаболизм и заставляет организм переходить \\n    на режим экономии. В результате начинают накапливаться жировые отложения. Постарайтесь \\n    не перекусывать на рабочем месте или у телевизора. Процесс потребления пищи в этом случае \\n    становится неконтролируемым, наступает не насыщение, а переедание.\\n    Правило № 2. Ежедневно съедайте немного свежих овощей и фруктов. \\n    Рекомендованное количество — по 300 г тех и других. Так вы получите все необходимые \\n    витамины и клетчатку. Очень удобно брать с собой на работу заранее порезанное яблоко \\n    или грушу, огурец или морковные палочки.\\n\\nКонечно, немедленно и полностью изменить свои привычки и отказаться от \\nвкусного торта с чашечкой крепкого кофе очень сложно. Это может потребовать \\nбольшого напряжения воли и привести к стрессу. Так что изредка можно позволить \\nсебе и бутерброд с колбасой, и пирожное.' metadata={'source': 'someinfo.txt'}\n",
            "'first chunk - Принципы здорового питания: это должен знать каждый!'\n",
            "len of splitted data - 25\n"
          ]
        }
      ]
    },
    {
      "cell_type": "code",
      "source": [
        "# для экселя скачивание и чанкование, обернуть в функц\n",
        "path = ''\n",
        "xl_loader = UnstructuredExcelLoader(\n",
        "    \"data3.xlsx\",\n",
        "    mode=\"elements\"\n",
        ")\n",
        "x_docs = xl_loader.load()\n",
        "print(x_docs[0])\n",
        "\n",
        "splitter = RecursiveCharacterTextSplitter(\n",
        "    chunk_size=400,\n",
        "    chunk_overlap=200,\n",
        "    length_function=len,\n",
        "    is_separator_regex=False\n",
        ")\n",
        "x_splitted_data = splitter.split_documents(x_docs)\n",
        "pp(f'first chunk - {x_splitted_data[0].page_content}')\n",
        "print(f'len of splitted data - {len(x_splitted_data)}')"
      ],
      "metadata": {
        "id": "YBFZTWifxwdh"
      },
      "execution_count": null,
      "outputs": []
    },
    {
      "cell_type": "code",
      "source": [
        "# https://www.sbert.net/docs/pretrained_models.html варианты моделей\n",
        "# var_of_model = \"all-MiniLM-L12-v2\" - неплохо\n",
        "import sentence_transformers\n",
        "from langchain_community.vectorstores.utils import filter_complex_metadata\n",
        "\n",
        "var_of_model = 'multi-qa-MiniLM-L6-cos-v1'\n",
        "callback_manager = CallbackManager([StreamingStdOutCallbackHandler()])\n",
        "persist_directory = './chroma_db'\n",
        "embedding = SentenceTransformerEmbeddings(model_name=var_of_model)\n",
        "# Создание вект хранилища на диске\n",
        "# фильтр для эксель\n",
        "filter_xls = filter_complex_metadata(x_splitted_data)\n",
        "# db for excel\n",
        "# vectordb = Chroma.from_documents(\n",
        "#     x_splitted_data,\n",
        "#     embedding\n",
        "# )\n",
        "# db for txt\n",
        "vectordb = Chroma.from_documents(\n",
        "    t_splitted_data,\n",
        "    embedding\n",
        ")\n",
        "print(f'collection count in vectordb in llm = {vectordb._collection.count()}')\n",
        "vectordb.persist()\n",
        "print(vectordb._collection.get())"
      ],
      "metadata": {
        "id": "OqU0TEX9xx3W",
        "colab": {
          "base_uri": "https://localhost:8080/"
        },
        "outputId": "4a4f7f4e-2f65-4202-f7d9-be2619ad251c"
      },
      "execution_count": null,
      "outputs": [
        {
          "output_type": "stream",
          "name": "stdout",
          "text": [
            "collection count in vectordb in llm = 25\n",
            "{'ids': ['71aa6796-bb62-11ee-a675-0242ac1c000c', '71aa6890-bb62-11ee-a675-0242ac1c000c', '71aa6908-bb62-11ee-a675-0242ac1c000c', '71aa6976-bb62-11ee-a675-0242ac1c000c', '71aa69e4-bb62-11ee-a675-0242ac1c000c', '71aa6a3e-bb62-11ee-a675-0242ac1c000c', '71aa6aa2-bb62-11ee-a675-0242ac1c000c', '71aa6b06-bb62-11ee-a675-0242ac1c000c', '71aa6b60-bb62-11ee-a675-0242ac1c000c', '71aa6bc4-bb62-11ee-a675-0242ac1c000c', '71aa6c1e-bb62-11ee-a675-0242ac1c000c', '71aa6c82-bb62-11ee-a675-0242ac1c000c', '71aa6cdc-bb62-11ee-a675-0242ac1c000c', '71aa6d36-bb62-11ee-a675-0242ac1c000c', '71aa6da4-bb62-11ee-a675-0242ac1c000c', '71aa6e08-bb62-11ee-a675-0242ac1c000c', '71aa6e62-bb62-11ee-a675-0242ac1c000c', '71aa6ebc-bb62-11ee-a675-0242ac1c000c', '71aa6f2a-bb62-11ee-a675-0242ac1c000c', '71aa6fac-bb62-11ee-a675-0242ac1c000c', '71aa7010-bb62-11ee-a675-0242ac1c000c', '71aa706a-bb62-11ee-a675-0242ac1c000c', '71aa70c4-bb62-11ee-a675-0242ac1c000c', '71aa711e-bb62-11ee-a675-0242ac1c000c', '71aa7182-bb62-11ee-a675-0242ac1c000c'], 'embeddings': None, 'metadatas': [{'source': 'someinfo.txt'}, {'source': 'someinfo.txt'}, {'source': 'someinfo.txt'}, {'source': 'someinfo.txt'}, {'source': 'someinfo.txt'}, {'source': 'someinfo.txt'}, {'source': 'someinfo.txt'}, {'source': 'someinfo.txt'}, {'source': 'someinfo.txt'}, {'source': 'someinfo.txt'}, {'source': 'someinfo.txt'}, {'source': 'someinfo.txt'}, {'source': 'someinfo.txt'}, {'source': 'someinfo.txt'}, {'source': 'someinfo.txt'}, {'source': 'someinfo.txt'}, {'source': 'someinfo.txt'}, {'source': 'someinfo.txt'}, {'source': 'someinfo.txt'}, {'source': 'someinfo.txt'}, {'source': 'someinfo.txt'}, {'source': 'someinfo.txt'}, {'source': 'someinfo.txt'}, {'source': 'someinfo.txt'}, {'source': 'someinfo.txt'}], 'documents': ['Принципы здорового питания: это должен знать каждый!', 'С чего же начать? Прежде всего, с твердого решения питаться правильно.\\n Вот несколько несложных правил, на которые опирается практически вся современная диетология и \\n которые помогут быстро освоить принципы здорового питания.\\n    Правило № 1. Навсегда забудьте про фастфуд и постарайтесь не', 'Правило № 1. Навсегда забудьте про фастфуд и постарайтесь не \\n    злоупотреблять сладким.\\n    Правило № 2. Ешьте как можно больше сезонных продуктов — в них \\n    содержится максимум полезных веществ. Зимние овощи и фрукты, выращенные в теплицах', 'содержится максимум полезных веществ. Зимние овощи и фрукты, выращенные в теплицах \\n    или привезенные издалека, из-за обработки химикатами и длительного хранения не только \\n    теряют всю пользу, но и становятся аккумуляторами нитратов и других вредных химических соединений.', 'Правило № 3. Максимально ограничьте употребление рафинированных продуктов: сахара, растительного масла,\\n    белой пшеничной муки, очищенного белого риса. В них нет клетчатки, которая очень важна для работы', 'пищеварительного тракта, а также для питания полезных бактерий, живущих в кишечнике. Именно поэтому \\n    гораздо лучше вместо белого хлеба есть цельнозерновой, а рафинированный сахар заменить на коричневый или даже на мед.\\n    Правило № 4. Пейте воду. Чай, кофе и соки воду не заменяют.', 'Правило № 4. Пейте воду. Чай, кофе и соки воду не заменяют. \\n    В сутки организму необходимо получать не меньше 30–35 мл жидкости на 1 кг веса.\\n    Сладкие газировки — полностью под запретом, в них содержится слишком много сахара.', 'Сладкие газировки — полностью под запретом, в них содержится слишком много сахара.\\n    Правило № 5. Не забывайте о белковой пище. Она способна надолго дать чувство сытости', 'и к тому же богата аминокислотами. Белки необходимы организму для строительства мышечной ткани, замены устаревших клеток. К богатым белками продуктам относятся различные виды мяса, рыба, кальмары, креветки, орехи, грибы, некоторые бобовые, яйца, творог.', 'Приготовление пищи', 'Правило № 1. Используйте для приготовления пищи несколько видов\\n    растительного масла. Это лучший источник необходимых организму жирных кислот.\\n    Очень хорошо, если на кухне постоянно будут несколько бутылочек с разными маслами:', 'Очень хорошо, если на кухне постоянно будут несколько бутылочек с разными маслами:\\n    оливковым, кунжутным, льняным, маслом грецкого и кедрового ореха. \\n    Помните, что нерафинированные масла не подходят для термической обработки.', 'Помните, что нерафинированные масла не подходят для термической обработки.\\n    Правило № 2. Готовьте правильно. Сохранить все полезные вещества в\\n    продуктах можно при минимальной тепловой обработке. Макароны или крупу рекомендуется', 'продуктах можно при минимальной тепловой обработке. Макароны или крупу рекомендуется \\n    варить всего несколько минут. Кстати, классическая итальянская паста всегда должна быть чуть-чуть', 'недоваренной и заправляться растительным маслом. Мясные и рыбные продукты обязательно должны быть термически \\n    обработаны, поскольку в них могут находиться паразиты. Но при этом от жарки на масле лучше отказаться,', 'оптимальные способы — варка, запекание в духовом шкафу и приготовление на пару.\\n    Правило № 3. Используйте для готовки натуральные и свежие продукты. Любой \\n    полуфабрикат или товар длительного хранения с консервантами, усилителями', 'полуфабрикат или товар длительного хранения с консервантами, усилителями \\n    вкуса и красителями увеличивает нагрузку на организм, препятствует выведению токсинов, \\n    замедляет обмен веществ. Кусочек курицы, запеченный в духовке, во много раз полезнее', 'замедляет обмен веществ. Кусочек курицы, запеченный в духовке, во много раз полезнее \\n    самой качественной и дорогой колбасы из магазина.', 'Режим', 'Правило № 1. Обязательно соблюдайте режим питания. \\n    Редкие приемы пищи вредны так же, как постоянные перекусы и привычка все \\n    время что-нибудь жевать. Здоровому человеку оптимально есть 4–5 раз в день,', 'время что-нибудь жевать. Здоровому человеку оптимально есть 4–5 раз в день, \\n    промежуток между едой более 5 часов замедляет метаболизм и заставляет организм переходить \\n    на режим экономии. В результате начинают накапливаться жировые отложения. Постарайтесь', 'на режим экономии. В результате начинают накапливаться жировые отложения. Постарайтесь \\n    не перекусывать на рабочем месте или у телевизора. Процесс потребления пищи в этом случае \\n    становится неконтролируемым, наступает не насыщение, а переедание.', 'становится неконтролируемым, наступает не насыщение, а переедание.\\n    Правило № 2. Ежедневно съедайте немного свежих овощей и фруктов. \\n    Рекомендованное количество — по 300 г тех и других. Так вы получите все необходимые', 'Рекомендованное количество — по 300 г тех и других. Так вы получите все необходимые \\n    витамины и клетчатку. Очень удобно брать с собой на работу заранее порезанное яблоко \\n    или грушу, огурец или морковные палочки.', 'Конечно, немедленно и полностью изменить свои привычки и отказаться от \\nвкусного торта с чашечкой крепкого кофе очень сложно. Это может потребовать \\nбольшого напряжения воли и привести к стрессу. Так что изредка можно позволить \\nсебе и бутерброд с колбасой, и пирожное.'], 'uris': None, 'data': None}\n"
          ]
        }
      ]
    },
    {
      "cell_type": "code",
      "source": [
        "# для удаления старой бд после использования загруженных в нее данных\n",
        "vectordb.delete_collection()"
      ],
      "metadata": {
        "id": "cJ3jZh_u1KH6"
      },
      "execution_count": null,
      "outputs": []
    },
    {
      "cell_type": "code",
      "source": [
        "# для примера поиска по бд\n",
        "# ? только последний чанк всегда подходит\n",
        "# question = \"почему газировки лучше не пить\"\n",
        "question = \"какие использовать растительные масла\"\n",
        "# question = 'сколько стоили макароны в ямало-ненецком ао?'\n",
        "embedded_question = embedding.embed_query(question)\n",
        "# answers = vectordb.similarity_search_by_vector(embedded_question, k=2)\n",
        "answers = vectordb.similarity_search(question, k=3)\n",
        "def printAnswer(answers):\n",
        "    print(f'Наиболее релевантными для вопроса \"{question}\" являются чанки: ')\n",
        "    print()\n",
        "    for answer in answers:\n",
        "        print(answer.page_content)\n",
        "        # print(answer.metadata)  # .source\n",
        "        print('-----')\n",
        "printAnswer(answers)\n",
        "\n",
        "# нет разницы в результатах между similarity_search\n",
        "# и similarity_search_by_vector"
      ],
      "metadata": {
        "colab": {
          "base_uri": "https://localhost:8080/"
        },
        "id": "ZuOkML2uyQHC",
        "outputId": "2351bad8-be5a-415a-e7ff-08ce84b7792d"
      },
      "execution_count": null,
      "outputs": [
        {
          "output_type": "stream",
          "name": "stdout",
          "text": [
            "Наиболее релевантными для вопроса \"какие использовать растительные масла\" являются чанки: \n",
            "\n",
            "недоваренной и заправляться растительным маслом. Мясные и рыбные продукты обязательно должны быть термически \n",
            "    обработаны, поскольку в них могут находиться паразиты. Но при этом от жарки на масле лучше отказаться,\n",
            "-----\n",
            "продуктах можно при минимальной тепловой обработке. Макароны или крупу рекомендуется \n",
            "    варить всего несколько минут. Кстати, классическая итальянская паста всегда должна быть чуть-чуть\n",
            "-----\n",
            "Правило № 1. Используйте для приготовления пищи несколько видов\n",
            "    растительного масла. Это лучший источник необходимых организму жирных кислот.\n",
            "    Очень хорошо, если на кухне постоянно будут несколько бутылочек с разными маслами:\n",
            "-----\n"
          ]
        }
      ]
    },
    {
      "cell_type": "code",
      "source": [
        "!pip install gpt4all\n",
        "# !pip install ctransformers\n",
        "# пока неактуально"
      ],
      "metadata": {
        "id": "moh8I9KrmtDg"
      },
      "execution_count": null,
      "outputs": []
    },
    {
      "cell_type": "code",
      "source": [
        "!wget https://huggingface.co/TheBloke/Mistral-7B-Instruct-v0.1-GGUF/resolve/main/mistral-7b-instruct-v0.1.Q5_K_S.gguf\n",
        "#!wget https://huggingface.co/TheBloke/Llama-2-7B-Chat-GGUF/resolve/main/llama-2-7b-chat.Q2_K.gguf?download=true"
      ],
      "metadata": {
        "id": "X3Q9oQQOjsCs"
      },
      "execution_count": null,
      "outputs": []
    },
    {
      "cell_type": "markdown",
      "source": [
        "Получаем ответ с помощью ЛЛМ"
      ],
      "metadata": {
        "id": "4ULb0aUu3Fvm"
      }
    },
    {
      "cell_type": "code",
      "source": [
        "question = \"с чего начать, чтобы питаться правильно?\"\n",
        "# question = 'сколько было говядины'\n",
        "retriever = vectordb.as_retriever(\n",
        "    search_type=\"similarity\",\n",
        "    search_kwargs={\"k\": 2}\n",
        ")\n",
        "model_path = '/content/mistral-7b-instruct-v0.1.Q5_K_S.gguf'\n",
        "\n",
        "llm = GPT4All(\n",
        "    model=model_path,\n",
        "    max_tokens = 256,\n",
        "    callbacks=callback_manager,\n",
        "    verbose=True\n",
        ")\n",
        "# это для лламы\n",
        "template1 = \"\"\"Ты - полезный ИИ ассистент для нашей организации.\n",
        "Используй следующие фрагменты контекста (Context), чтобы ответить на вопрос в конце\n",
        "(Question). Если ты не знаешь ответа, просто скажи, что не знаешь,\n",
        "не пытайся придумывать ответ.\n",
        "Сначала убедись, что прикрепленный текст имеет отношение к вопросу.\n",
        "Если текст не имеет отношения к вопросу, просто скажи, что текст не имеет\n",
        "отношения. Используй максимум три предложения. Дай ответ как можно более кратким.\n",
        "Context: {context}\n",
        "Question: {question}\n",
        "Answer:\"\"\"  # лучше на английском, но у нас руссичи\n",
        "# это для мистраля\n",
        "template = f'\"<s>[INST] {template1} [/INST] Model answer</s>[INST]\"'\n"
      ],
      "metadata": {
        "id": "ZJUDCJ0IyWth"
      },
      "execution_count": null,
      "outputs": []
    },
    {
      "cell_type": "code",
      "source": [
        "# make chain\n",
        "# где-то косяк. длительный поиск ответа и приходится делать кейбординтеррапт\n",
        "QA_CHAIN_PROMPT = PromptTemplate.from_template(template)\n",
        "# подключение к ллм\n",
        "qa_chain = RetrievalQA.from_chain_type(\n",
        "    llm,\n",
        "    retriever=retriever,\n",
        "    return_source_documents=True,\n",
        "    chain_type_kwargs={\"prompt\": QA_CHAIN_PROMPT},\n",
        "    chain_type=\"stuff\"\n",
        "    # chain_type=\"map_reduce\",\n",
        ")\n",
        "result = qa_chain({\"query\": question})\n",
        "printAnswer(result['source_documents'])"
      ],
      "metadata": {
        "colab": {
          "base_uri": "https://localhost:8080/",
          "height": 245
        },
        "id": "97b3ZhdpsaKj",
        "outputId": "21418cf5-1038-46d8-c2be-60795f5ae5e0"
      },
      "execution_count": null,
      "outputs": [
        {
          "output_type": "error",
          "ename": "NameError",
          "evalue": "name 'PromptTemplate' is not defined",
          "traceback": [
            "\u001b[0;31m---------------------------------------------------------------------------\u001b[0m",
            "\u001b[0;31mNameError\u001b[0m                                 Traceback (most recent call last)",
            "\u001b[0;32m<ipython-input-1-994ec9247956>\u001b[0m in \u001b[0;36m<cell line: 3>\u001b[0;34m()\u001b[0m\n\u001b[1;32m      1\u001b[0m \u001b[0;31m# make chain\u001b[0m\u001b[0;34m\u001b[0m\u001b[0;34m\u001b[0m\u001b[0m\n\u001b[1;32m      2\u001b[0m \u001b[0;31m# где-то косяк. длительный поиск ответа и приходится делать кейбординтеррапт\u001b[0m\u001b[0;34m\u001b[0m\u001b[0;34m\u001b[0m\u001b[0m\n\u001b[0;32m----> 3\u001b[0;31m \u001b[0mQA_CHAIN_PROMPT\u001b[0m \u001b[0;34m=\u001b[0m \u001b[0mPromptTemplate\u001b[0m\u001b[0;34m.\u001b[0m\u001b[0mfrom_template\u001b[0m\u001b[0;34m(\u001b[0m\u001b[0mtemplate\u001b[0m\u001b[0;34m)\u001b[0m\u001b[0;34m\u001b[0m\u001b[0;34m\u001b[0m\u001b[0m\n\u001b[0m\u001b[1;32m      4\u001b[0m \u001b[0;31m# подключение к ллм\u001b[0m\u001b[0;34m\u001b[0m\u001b[0;34m\u001b[0m\u001b[0m\n\u001b[1;32m      5\u001b[0m qa_chain = RetrievalQA.from_chain_type(\n",
            "\u001b[0;31mNameError\u001b[0m: name 'PromptTemplate' is not defined"
          ]
        }
      ]
    }
  ]
}